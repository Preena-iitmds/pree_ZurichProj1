{
  "nbformat": 4,
  "nbformat_minor": 0,
  "metadata": {
    "colab": {
      "provenance": []
    },
    "kernelspec": {
      "name": "python3",
      "display_name": "Python 3"
    },
    "language_info": {
      "name": "python"
    }
  },
  "cells": [
    {
      "cell_type": "code",
      "execution_count": null,
      "metadata": {
        "colab": {
          "base_uri": "https://localhost:8080/"
        },
        "collapsed": true,
        "id": "ZBWKF4BAoYOY",
        "outputId": "97a14445-4451-4e73-9a85-c7d85fcb23ea"
      },
      "outputs": [
        {
          "output_type": "stream",
          "name": "stdout",
          "text": [
            "Regression slope (followers on repos): 1.4774185353927571\n",
            "Intercept: 201.53222675642274\n",
            "R-squared: 0.004264700660188676\n"
          ]
        }
      ],
      "source": [
        "import pandas as pd\n",
        "import numpy as np\n",
        "from scipy.stats import linregress\n",
        "\n",
        "def main():\n",
        "    # Read the users from users.csv\n",
        "    users_df = pd.read_excel('users_copy2.xlsx')\n",
        "\n",
        "    # Ensure the relevant columns are present\n",
        "    if 'followers' not in users_df.columns or 'public_repos' not in users_df.columns:\n",
        "        print(\"excel file must contain 'followers' and 'public_repos' columns.\")\n",
        "        return\n",
        "\n",
        "    # Extract followers and public_repos columns\n",
        "    x = users_df['public_repos']  # Independent variable (number of public repositories)\n",
        "    y = users_df['followers']      # Dependent variable (number of followers)\n",
        "\n",
        "    # Perform linear regression\n",
        "    slope, intercept, r_value, p_value, std_err = linregress(x, y)\n",
        "\n",
        "    # Print the results\n",
        "    print(f\"Regression slope (followers on repos): {slope}\")\n",
        "    print(f\"Intercept: {intercept}\")\n",
        "    print(f\"R-squared: {r_value**2}\")\n",
        "\n",
        "if __name__ == \"__main__\":\n",
        "    main()\n"
      ]
    },
    {
      "cell_type": "code",
      "source": [
        "import pandas as pd\n",
        "\n",
        "def main():\n",
        "    # Read the users from users.csv\n",
        "    users_df = pd.read_excel('users_copy2.xlsx')\n",
        "\n",
        "    # Ensure the 'hireable' column is boolean\n",
        "    users_df['hireable'] = users_df['hireable'].astype(bool)\n",
        "\n",
        "    # Calculate average followers for hireable users\n",
        "    hireable_avg = users_df[users_df['hireable']]['following'].mean()\n",
        "\n",
        "    # Calculate average followers for non-hireable users\n",
        "    non_hireable_avg = users_df[~users_df['hireable']]['following'].mean()\n",
        "\n",
        "    # Calculate the difference\n",
        "    difference = hireable_avg - non_hireable_avg\n",
        "\n",
        "    # Print the result rounded to 3 decimal places\n",
        "    print(f\"Average following per hireable user minus non-hireable: {difference:.3f}\")\n",
        "\n",
        "if __name__ == \"__main__\":\n",
        "    main()\n"
      ],
      "metadata": {
        "colab": {
          "base_uri": "https://localhost:8080/"
        },
        "id": "A2_wbxwcphW_",
        "outputId": "89c68381-f35b-4ba7-92cf-5b873df12736"
      },
      "execution_count": null,
      "outputs": [
        {
          "output_type": "stream",
          "name": "stdout",
          "text": [
            "Average following per hireable user minus non-hireable: nan\n"
          ]
        }
      ]
    },
    {
      "cell_type": "code",
      "source": [
        "import pandas as pd\n",
        "\n",
        "def main():\n",
        "    # Read the repositories from repositories.csv\n",
        "    repos_df = pd.read_csv('repositories.csv')\n",
        "\n",
        "    # Convert 'created_at' to datetime to filter users who joined after 2020\n",
        "    repos_df['created_at'] = pd.to_datetime(repos_df['created_at'])\n",
        "\n",
        "    # Filter repositories based on the user's creation date\n",
        "    # Here we assume that the user joined in the year of repository creation\n",
        "    # If you have a separate column for user join date, adjust this accordingly\n",
        "    recent_repos_df = repos_df[repos_df['created_at'] >= '2020-01-01']\n",
        "\n",
        "    # Count the occurrences of each language\n",
        "    language_counts = recent_repos_df['language'].value_counts()\n",
        "\n",
        "    # Check if there are at least 2 different languages\n",
        "    if len(language_counts) < 2:\n",
        "        print(\"Not enough languages found.\")\n",
        "        return\n",
        "\n",
        "    # Get the second most popular language\n",
        "    second_most_popular = language_counts.index[1]  # Index 1 gives the second most popular\n",
        "\n",
        "    print(f\"The second most popular programming language among users who joined after 2020 is: {second_most_popular}\")\n",
        "\n",
        "if __name__ == \"__main__\":\n",
        "    main()\n"
      ],
      "metadata": {
        "id": "zDGOrSUvwLXK"
      },
      "execution_count": null,
      "outputs": []
    }
  ]
}